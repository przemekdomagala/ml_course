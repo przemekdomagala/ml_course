{
 "cells": [
  {
   "cell_type": "markdown",
   "metadata": {},
   "source": [
    "# Wczytanie danych"
   ]
  },
  {
   "cell_type": "code",
   "execution_count": 4,
   "metadata": {},
   "outputs": [],
   "source": [
    "from sklearn import datasets\n",
    "from sklearn.datasets import load_iris\n",
    "\n",
    "data_breast_cancer = datasets.load_breast_cancer()\n",
    "data_iris = load_iris()"
   ]
  },
  {
   "cell_type": "markdown",
   "metadata": {},
   "source": [
    "# Zadanie 1"
   ]
  },
  {
   "cell_type": "code",
   "execution_count": 5,
   "metadata": {},
   "outputs": [
    {
     "name": "stdout",
     "output_type": "stream",
     "text": [
      "[0.98204467]\n",
      "[0.92461872]\n"
     ]
    }
   ],
   "source": [
    "from sklearn.decomposition import PCA\n",
    "import numpy as np\n",
    "\n",
    "X_breast_cancer = data_breast_cancer.data\n",
    "y_breast_cancer = data_breast_cancer.target\n",
    "\n",
    "X_iris = data_iris.data\n",
    "y_iris = data_iris.target\n",
    "\n",
    "# determiting components for breast_cancer\n",
    "pca = PCA()\n",
    "pca = PCA(n_components=0.9)\n",
    "X_breast_cancer_reduced = pca.fit_transform(X_breast_cancer)\n",
    "print(pca.explained_variance_ratio_)\n",
    "\n",
    "# determiting components for iris\n",
    "pca = PCA()\n",
    "pca = PCA(n_components=0.9)\n",
    "X_breast_cancer_reduced = pca.fit_transform(X_iris)\n",
    "print(pca.explained_variance_ratio_)"
   ]
  },
  {
   "cell_type": "markdown",
   "metadata": {},
   "source": [
    "# Zadanie 2, 3"
   ]
  },
  {
   "cell_type": "code",
   "execution_count": 10,
   "metadata": {},
   "outputs": [
    {
     "name": "stdout",
     "output_type": "stream",
     "text": [
      "[0.44272026 0.18971182 0.09393163 0.06602135 0.05495768 0.04024522\n",
      " 0.02250734]\n",
      "[0.72962445 0.22850762]\n"
     ]
    }
   ],
   "source": [
    "from sklearn.preprocessing import StandardScaler\n",
    "import pickle\n",
    "\n",
    "scaler = StandardScaler()\n",
    "X_breast_scaled = scaler.fit_transform(X_breast_cancer)\n",
    "X_iris_scaled = scaler.fit_transform(X_iris)\n",
    "\n",
    "pca_bc_scaled = PCA(n_components=0.9)\n",
    "pca_bc_scaled.fit_transform(X_breast_scaled)\n",
    "print(pca_bc_scaled.explained_variance_ratio_)\n",
    "\n",
    "with open('pca_bc.pkl', 'wb') as pca_bc_file:\n",
    "    pickle.dump(pca_bc_scaled.explained_variance_ratio_, pca_bc_file)\n",
    "\n",
    "pca_iris_scaled = PCA(n_components=0.9)\n",
    "pca_iris_scaled.fit_transform(X_iris_scaled)\n",
    "print(pca_iris_scaled.explained_variance_ratio_)\n",
    "\n",
    "with open('pca_ir.pkl', 'wb') as pca_ir_file:\n",
    "    pickle.dump(pca_iris_scaled.explained_variance_ratio_, pca_ir_file)"
   ]
  },
  {
   "cell_type": "markdown",
   "metadata": {},
   "source": [
    "# Zadanie 4"
   ]
  },
  {
   "cell_type": "code",
   "execution_count": 15,
   "metadata": {},
   "outputs": [],
   "source": [
    "idx_bc = np.argmax(np.abs(pca_bc_scaled.components_), axis=1)\n",
    "idx_ir = np.argmax(np.abs(pca_iris_scaled.components_), axis=1)\n",
    "\n",
    "with open('idx_bc.pkl', 'wb') as idx_bc_file:\n",
    "    pickle.dump(idx_bc, idx_bc_file)\n",
    "\n",
    "with open('idx_ir.pkl', 'wb') as idx_ir_file:\n",
    "    pickle.dump(idx_ir, idx_ir_file)"
   ]
  }
 ],
 "metadata": {
  "kernelspec": {
   "display_name": "Python 3",
   "language": "python",
   "name": "python3"
  },
  "language_info": {
   "codemirror_mode": {
    "name": "ipython",
    "version": 3
   },
   "file_extension": ".py",
   "mimetype": "text/x-python",
   "name": "python",
   "nbconvert_exporter": "python",
   "pygments_lexer": "ipython3",
   "version": "3.11.8"
  }
 },
 "nbformat": 4,
 "nbformat_minor": 2
}
